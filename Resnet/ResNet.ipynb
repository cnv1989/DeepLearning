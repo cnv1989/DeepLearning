{
 "cells": [
  {
   "cell_type": "code",
   "execution_count": 1,
   "metadata": {},
   "outputs": [
    {
     "name": "stderr",
     "output_type": "stream",
     "text": [
      "Using TensorFlow backend.\n",
      "/home/ec2-user/anaconda3/envs/tensorflow_p36/lib/python3.6/importlib/_bootstrap.py:205: RuntimeWarning: compiletime version 3.5 of module 'tensorflow.python.framework.fast_tensor_util' does not match runtime version 3.6\n",
      "  return f(*args, **kwds)\n"
     ]
    }
   ],
   "source": [
    "from keras import layers\n",
    "from keras import initializers"
   ]
  },
  {
   "cell_type": "code",
   "execution_count": 32,
   "metadata": {
    "collapsed": true
   },
   "outputs": [],
   "source": [
    "from keras.datasets import cifar10\n",
    "\n",
    "(x_train, y_train), (x_test, y_test) = cifar10.load_data()"
   ]
  },
  {
   "cell_type": "code",
   "execution_count": 3,
   "metadata": {
    "collapsed": true
   },
   "outputs": [],
   "source": [
    "def convolution_block(X_IN, filter_size, number_of_filters, stage, block, stride=2):\n",
    "    name_fmt = 'convolution_block_layer_{}' + 'stage_{}_block_{}'.format(stage, block) + '_branch_{}'\n",
    "    F1, F2, F3 = number_of_filters\n",
    "    \n",
    "    # 1x1 convolutions to change the number of filters and reduce the dimensions of the input\n",
    "    X = layers.Conv2D(F1, (1, 1), \n",
    "                      strides=(stride, stride),\n",
    "                      padding='same',\n",
    "                      kernel_initializer=initializers.glorot_uniform(seed=0),\n",
    "                      name=name_fmt.format('conv', 'a'))(X_IN)\n",
    "    X = layers.BatchNormalization(axis=3, name=name_fmt.format('bn', 'a'))(X)\n",
    "    X = layers.Activation('relu')(X)\n",
    "    \n",
    "    # filter_size x filter_size convolution to change the number of filters and change the dimensions\n",
    "    X = layers.Conv2D(F2, (filter_size, filter_size), \n",
    "                      strides=(1, 1),\n",
    "                      padding='same',\n",
    "                      kernel_initializer=initializers.glorot_uniform(seed=0),\n",
    "                      name=name_fmt.format('conv', 'b'))(X)\n",
    "    X = layers.BatchNormalization(axis=3, name=name_fmt.format('bn', 'b'))(X)\n",
    "    X = layers.Activation('relu')(X)\n",
    "    \n",
    "    # 1 x 1 convolution to change the number of filters\n",
    "    X = layers.Conv2D(F3, (1, 1), \n",
    "                      strides=(1, 1),\n",
    "                      padding='valid',\n",
    "                      kernel_initializer=initializers.glorot_uniform(seed=0),\n",
    "                      name=name_fmt.format('conv', 'c'))(X)\n",
    "    X = layers.BatchNormalization(axis=3, name=name_fmt.format('bn', 'c'))(X)\n",
    "    \n",
    "    X_shortcut = layers.Conv2D(F3, (1, 1), \n",
    "                               strides=(stride, stride), \n",
    "                               padding='valid', \n",
    "                               kernel_initializer=initializers.glorot_uniform(seed=0),\n",
    "                               name=name_fmt.format('conv_short', '1'))(X_IN)\n",
    "    X_shortcut = layers.BatchNormalization(axis=3, name=name_fmt.format('bn_short', '1'))(X_shortcut)\n",
    "    \n",
    "    X = layers.Add()([X, X_shortcut])\n",
    "    return layers.Activation('relu')(X)"
   ]
  },
  {
   "cell_type": "code",
   "execution_count": 4,
   "metadata": {
    "collapsed": true
   },
   "outputs": [],
   "source": [
    "def identity_block(X_IN, filter_size, number_of_filters, stage, block):\n",
    "    name_fmt = 'identity_block_layer_{}' + 'stage_{}_block_{}'.format(stage, block) + '_branch_{}'\n",
    "    F1, F2, F3 = number_of_filters\n",
    "    \n",
    "    X = layers.Conv2D(F1, (1, 1), strides=(1, 1), padding='valid',\n",
    "                      kernel_initializer=initializers.glorot_uniform(seed=0),\n",
    "                      name=name_fmt.format('conv', 'a'))(X_IN)\n",
    "    X = layers.BatchNormalization(axis=3, name=name_fmt.format('bn', 'a'))(X)\n",
    "    X = layers.Activation('relu')(X)\n",
    "    \n",
    "    X = layers.Conv2D(F2, (filter_size, filter_size), strides=(1, 1), padding='same',\n",
    "                      kernel_initializer=initializers.glorot_uniform(seed=0),\n",
    "                      name=name_fmt.format('conv', 'b'))(X)\n",
    "    X = layers.BatchNormalization(axis=3, name=name_fmt.format('bn', 'b'))(X)\n",
    "    X = layers.Activation('relu')(X)\n",
    "    \n",
    "    X = layers.Conv2D(F3, (1, 1), strides=(1, 1), padding='valid',\n",
    "                      kernel_initializer=initializers.glorot_uniform(seed=0),\n",
    "                      name=name_fmt.format('conv', 'c'))(X)\n",
    "    X = layers.BatchNormalization(axis=3, name=name_fmt.format('bn', 'c'))(X)\n",
    "    \n",
    "    X = layers.Add()([X, X_IN])\n",
    "    return layers.Activation('relu')(X)\n",
    "    \n",
    "    "
   ]
  },
  {
   "cell_type": "code",
   "execution_count": 5,
   "metadata": {
    "collapsed": true
   },
   "outputs": [],
   "source": [
    "def residual_stage(X_IN, filter_size, number_of_filters, stage, number_of_blocks=1):\n",
    "    \n",
    "    X = convolution_block(X_IN, filter_size, number_of_filters, stage, 0)\n",
    "    number_of_blocks -= 1\n",
    "    \n",
    "    for i in range(number_of_blocks):\n",
    "        X = identity_block(X, filter_size, number_of_filters, stage, i + 1)\n",
    "    \n",
    "    return X"
   ]
  },
  {
   "cell_type": "code",
   "execution_count": 25,
   "metadata": {
    "collapsed": true
   },
   "outputs": [],
   "source": [
    "from keras.models import Model\n",
    "\n",
    "def Resnet50(input_shape, classes):\n",
    "    X_input = layers.Input(input_shape)\n",
    "    X = layers.ZeroPadding2D((3, 3))(X_input)\n",
    "    X = layers.Conv2D(64, (7, 7), strides=(2, 2), \n",
    "                      padding='same', \n",
    "                      kernel_initializer=initializers.glorot_uniform(seed=0),\n",
    "                      name='conv_stage_1')(X)\n",
    "    X = layers.BatchNormalization(axis=3, name='bn_stage_1')(X)\n",
    "    print(X)\n",
    "    X = layers.MaxPooling2D((3, 3), strides=(2, 2))(X)\n",
    "    print(X)\n",
    "    \n",
    "    X = residual_stage(X, 3, [64, 64, 256], 2, number_of_blocks=3)\n",
    "    print(X)\n",
    "    X = residual_stage(X, 3, [128, 128, 512], 3, number_of_blocks=4)\n",
    "    print(X)\n",
    "    X = residual_stage(X, 3, [256, 256, 1024], 4, number_of_blocks=3)\n",
    "    print(X)\n",
    "    \n",
    "    X = layers.AveragePooling2D()(X)\n",
    "    print(X)\n",
    "    \n",
    "    X = layers.Flatten()(X)\n",
    "    X = layers.Dense(classes, activation='softmax',\n",
    "                     kernel_initializer=initializers.glorot_uniform(seed=0),\n",
    "                     name='fully_connected_5')(X)\n",
    "    return Model(inputs=X_input, outputs=X, name='Resnet50')"
   ]
  },
  {
   "cell_type": "code",
   "execution_count": 26,
   "metadata": {},
   "outputs": [
    {
     "data": {
      "text/plain": [
       "(50000, 32, 32, 3)"
      ]
     },
     "execution_count": 26,
     "metadata": {},
     "output_type": "execute_result"
    }
   ],
   "source": [
    "x_train.shape"
   ]
  },
  {
   "cell_type": "code",
   "execution_count": 28,
   "metadata": {},
   "outputs": [
    {
     "name": "stdout",
     "output_type": "stream",
     "text": [
      "Tensor(\"bn_stage_1_7/cond/Merge:0\", shape=(?, 19, 19, 64), dtype=float32)\n",
      "Tensor(\"max_pooling2d_8/MaxPool:0\", shape=(?, 9, 9, 64), dtype=float32)\n",
      "Tensor(\"activation_255/Relu:0\", shape=(?, 5, 5, 256), dtype=float32)\n",
      "Tensor(\"activation_267/Relu:0\", shape=(?, 3, 3, 512), dtype=float32)\n",
      "Tensor(\"activation_276/Relu:0\", shape=(?, 2, 2, 1024), dtype=float32)\n",
      "Tensor(\"average_pooling2d_8/AvgPool:0\", shape=(?, 1, 1, 1024), dtype=float32)\n"
     ]
    }
   ],
   "source": [
    "resnet50 = Resnet50((32, 32, 3), 10)"
   ]
  },
  {
   "cell_type": "code",
   "execution_count": 30,
   "metadata": {},
   "outputs": [
    {
     "name": "stdout",
     "output_type": "stream",
     "text": [
      "__________________________________________________________________________________________________\n",
      "Layer (type)                    Output Shape         Param #     Connected to                     \n",
      "==================================================================================================\n",
      "input_8 (InputLayer)            (None, 32, 32, 3)    0                                            \n",
      "__________________________________________________________________________________________________\n",
      "zero_padding2d_7 (ZeroPadding2D (None, 38, 38, 3)    0           input_8[0][0]                    \n",
      "__________________________________________________________________________________________________\n",
      "conv_stage_1 (Conv2D)           (None, 19, 19, 64)   9472        zero_padding2d_7[0][0]           \n",
      "__________________________________________________________________________________________________\n",
      "bn_stage_1 (BatchNormalization) (None, 19, 19, 64)   256         conv_stage_1[0][0]               \n",
      "__________________________________________________________________________________________________\n",
      "max_pooling2d_8 (MaxPooling2D)  (None, 9, 9, 64)     0           bn_stage_1[0][0]                 \n",
      "__________________________________________________________________________________________________\n",
      "convolution_block_layer_convsta (None, 5, 5, 64)     4160        max_pooling2d_8[0][0]            \n",
      "__________________________________________________________________________________________________\n",
      "convolution_block_layer_bnstage (None, 5, 5, 64)     256         convolution_block_layer_convstage\n",
      "__________________________________________________________________________________________________\n",
      "activation_247 (Activation)     (None, 5, 5, 64)     0           convolution_block_layer_bnstage_2\n",
      "__________________________________________________________________________________________________\n",
      "convolution_block_layer_convsta (None, 5, 5, 64)     36928       activation_247[0][0]             \n",
      "__________________________________________________________________________________________________\n",
      "convolution_block_layer_bnstage (None, 5, 5, 64)     256         convolution_block_layer_convstage\n",
      "__________________________________________________________________________________________________\n",
      "activation_248 (Activation)     (None, 5, 5, 64)     0           convolution_block_layer_bnstage_2\n",
      "__________________________________________________________________________________________________\n",
      "convolution_block_layer_convsta (None, 5, 5, 256)    16640       activation_248[0][0]             \n",
      "__________________________________________________________________________________________________\n",
      "convolution_block_layer_conv_sh (None, 5, 5, 256)    16640       max_pooling2d_8[0][0]            \n",
      "__________________________________________________________________________________________________\n",
      "convolution_block_layer_bnstage (None, 5, 5, 256)    1024        convolution_block_layer_convstage\n",
      "__________________________________________________________________________________________________\n",
      "convolution_block_layer_bn_shor (None, 5, 5, 256)    1024        convolution_block_layer_conv_shor\n",
      "__________________________________________________________________________________________________\n",
      "add_83 (Add)                    (None, 5, 5, 256)    0           convolution_block_layer_bnstage_2\n",
      "                                                                 convolution_block_layer_bn_shorts\n",
      "__________________________________________________________________________________________________\n",
      "activation_249 (Activation)     (None, 5, 5, 256)    0           add_83[0][0]                     \n",
      "__________________________________________________________________________________________________\n",
      "identity_block_layer_convstage_ (None, 5, 5, 64)     16448       activation_249[0][0]             \n",
      "__________________________________________________________________________________________________\n",
      "identity_block_layer_bnstage_2_ (None, 5, 5, 64)     256         identity_block_layer_convstage_2_\n",
      "__________________________________________________________________________________________________\n",
      "activation_250 (Activation)     (None, 5, 5, 64)     0           identity_block_layer_bnstage_2_bl\n",
      "__________________________________________________________________________________________________\n",
      "identity_block_layer_convstage_ (None, 5, 5, 64)     36928       activation_250[0][0]             \n",
      "__________________________________________________________________________________________________\n",
      "identity_block_layer_bnstage_2_ (None, 5, 5, 64)     256         identity_block_layer_convstage_2_\n",
      "__________________________________________________________________________________________________\n",
      "activation_251 (Activation)     (None, 5, 5, 64)     0           identity_block_layer_bnstage_2_bl\n",
      "__________________________________________________________________________________________________\n",
      "identity_block_layer_convstage_ (None, 5, 5, 256)    16640       activation_251[0][0]             \n",
      "__________________________________________________________________________________________________\n",
      "identity_block_layer_bnstage_2_ (None, 5, 5, 256)    1024        identity_block_layer_convstage_2_\n",
      "__________________________________________________________________________________________________\n",
      "add_84 (Add)                    (None, 5, 5, 256)    0           identity_block_layer_bnstage_2_bl\n",
      "                                                                 activation_249[0][0]             \n",
      "__________________________________________________________________________________________________\n",
      "activation_252 (Activation)     (None, 5, 5, 256)    0           add_84[0][0]                     \n",
      "__________________________________________________________________________________________________\n",
      "identity_block_layer_convstage_ (None, 5, 5, 64)     16448       activation_252[0][0]             \n",
      "__________________________________________________________________________________________________\n",
      "identity_block_layer_bnstage_2_ (None, 5, 5, 64)     256         identity_block_layer_convstage_2_\n",
      "__________________________________________________________________________________________________\n",
      "activation_253 (Activation)     (None, 5, 5, 64)     0           identity_block_layer_bnstage_2_bl\n",
      "__________________________________________________________________________________________________\n",
      "identity_block_layer_convstage_ (None, 5, 5, 64)     36928       activation_253[0][0]             \n",
      "__________________________________________________________________________________________________\n",
      "identity_block_layer_bnstage_2_ (None, 5, 5, 64)     256         identity_block_layer_convstage_2_\n",
      "__________________________________________________________________________________________________\n",
      "activation_254 (Activation)     (None, 5, 5, 64)     0           identity_block_layer_bnstage_2_bl\n",
      "__________________________________________________________________________________________________\n",
      "identity_block_layer_convstage_ (None, 5, 5, 256)    16640       activation_254[0][0]             \n",
      "__________________________________________________________________________________________________\n",
      "identity_block_layer_bnstage_2_ (None, 5, 5, 256)    1024        identity_block_layer_convstage_2_\n",
      "__________________________________________________________________________________________________\n",
      "add_85 (Add)                    (None, 5, 5, 256)    0           identity_block_layer_bnstage_2_bl\n",
      "                                                                 activation_252[0][0]             \n",
      "__________________________________________________________________________________________________\n",
      "activation_255 (Activation)     (None, 5, 5, 256)    0           add_85[0][0]                     \n",
      "__________________________________________________________________________________________________\n",
      "convolution_block_layer_convsta (None, 3, 3, 128)    32896       activation_255[0][0]             \n",
      "__________________________________________________________________________________________________\n",
      "convolution_block_layer_bnstage (None, 3, 3, 128)    512         convolution_block_layer_convstage\n",
      "__________________________________________________________________________________________________\n",
      "activation_256 (Activation)     (None, 3, 3, 128)    0           convolution_block_layer_bnstage_3\n",
      "__________________________________________________________________________________________________\n",
      "convolution_block_layer_convsta (None, 3, 3, 128)    147584      activation_256[0][0]             \n",
      "__________________________________________________________________________________________________\n",
      "convolution_block_layer_bnstage (None, 3, 3, 128)    512         convolution_block_layer_convstage\n",
      "__________________________________________________________________________________________________\n",
      "activation_257 (Activation)     (None, 3, 3, 128)    0           convolution_block_layer_bnstage_3\n",
      "__________________________________________________________________________________________________\n",
      "convolution_block_layer_convsta (None, 3, 3, 512)    66048       activation_257[0][0]             \n",
      "__________________________________________________________________________________________________\n",
      "convolution_block_layer_conv_sh (None, 3, 3, 512)    131584      activation_255[0][0]             \n",
      "__________________________________________________________________________________________________\n",
      "convolution_block_layer_bnstage (None, 3, 3, 512)    2048        convolution_block_layer_convstage\n",
      "__________________________________________________________________________________________________\n",
      "convolution_block_layer_bn_shor (None, 3, 3, 512)    2048        convolution_block_layer_conv_shor\n",
      "__________________________________________________________________________________________________\n",
      "add_86 (Add)                    (None, 3, 3, 512)    0           convolution_block_layer_bnstage_3\n",
      "                                                                 convolution_block_layer_bn_shorts\n",
      "__________________________________________________________________________________________________\n",
      "activation_258 (Activation)     (None, 3, 3, 512)    0           add_86[0][0]                     \n",
      "__________________________________________________________________________________________________\n",
      "identity_block_layer_convstage_ (None, 3, 3, 128)    65664       activation_258[0][0]             \n",
      "__________________________________________________________________________________________________\n",
      "identity_block_layer_bnstage_3_ (None, 3, 3, 128)    512         identity_block_layer_convstage_3_\n",
      "__________________________________________________________________________________________________\n",
      "activation_259 (Activation)     (None, 3, 3, 128)    0           identity_block_layer_bnstage_3_bl\n",
      "__________________________________________________________________________________________________\n",
      "identity_block_layer_convstage_ (None, 3, 3, 128)    147584      activation_259[0][0]             \n",
      "__________________________________________________________________________________________________\n",
      "identity_block_layer_bnstage_3_ (None, 3, 3, 128)    512         identity_block_layer_convstage_3_\n",
      "__________________________________________________________________________________________________\n",
      "activation_260 (Activation)     (None, 3, 3, 128)    0           identity_block_layer_bnstage_3_bl\n",
      "__________________________________________________________________________________________________\n",
      "identity_block_layer_convstage_ (None, 3, 3, 512)    66048       activation_260[0][0]             \n",
      "__________________________________________________________________________________________________\n",
      "identity_block_layer_bnstage_3_ (None, 3, 3, 512)    2048        identity_block_layer_convstage_3_\n",
      "__________________________________________________________________________________________________\n",
      "add_87 (Add)                    (None, 3, 3, 512)    0           identity_block_layer_bnstage_3_bl\n",
      "                                                                 activation_258[0][0]             \n",
      "__________________________________________________________________________________________________\n",
      "activation_261 (Activation)     (None, 3, 3, 512)    0           add_87[0][0]                     \n",
      "__________________________________________________________________________________________________\n",
      "identity_block_layer_convstage_ (None, 3, 3, 128)    65664       activation_261[0][0]             \n",
      "__________________________________________________________________________________________________\n",
      "identity_block_layer_bnstage_3_ (None, 3, 3, 128)    512         identity_block_layer_convstage_3_\n",
      "__________________________________________________________________________________________________\n",
      "activation_262 (Activation)     (None, 3, 3, 128)    0           identity_block_layer_bnstage_3_bl\n",
      "__________________________________________________________________________________________________\n",
      "identity_block_layer_convstage_ (None, 3, 3, 128)    147584      activation_262[0][0]             \n",
      "__________________________________________________________________________________________________\n",
      "identity_block_layer_bnstage_3_ (None, 3, 3, 128)    512         identity_block_layer_convstage_3_\n",
      "__________________________________________________________________________________________________\n",
      "activation_263 (Activation)     (None, 3, 3, 128)    0           identity_block_layer_bnstage_3_bl\n",
      "__________________________________________________________________________________________________\n",
      "identity_block_layer_convstage_ (None, 3, 3, 512)    66048       activation_263[0][0]             \n",
      "__________________________________________________________________________________________________\n",
      "identity_block_layer_bnstage_3_ (None, 3, 3, 512)    2048        identity_block_layer_convstage_3_\n",
      "__________________________________________________________________________________________________\n",
      "add_88 (Add)                    (None, 3, 3, 512)    0           identity_block_layer_bnstage_3_bl\n",
      "                                                                 activation_261[0][0]             \n",
      "__________________________________________________________________________________________________\n",
      "activation_264 (Activation)     (None, 3, 3, 512)    0           add_88[0][0]                     \n",
      "__________________________________________________________________________________________________\n",
      "identity_block_layer_convstage_ (None, 3, 3, 128)    65664       activation_264[0][0]             \n",
      "__________________________________________________________________________________________________\n",
      "identity_block_layer_bnstage_3_ (None, 3, 3, 128)    512         identity_block_layer_convstage_3_\n",
      "__________________________________________________________________________________________________\n",
      "activation_265 (Activation)     (None, 3, 3, 128)    0           identity_block_layer_bnstage_3_bl\n",
      "__________________________________________________________________________________________________\n",
      "identity_block_layer_convstage_ (None, 3, 3, 128)    147584      activation_265[0][0]             \n",
      "__________________________________________________________________________________________________\n",
      "identity_block_layer_bnstage_3_ (None, 3, 3, 128)    512         identity_block_layer_convstage_3_\n",
      "__________________________________________________________________________________________________\n",
      "activation_266 (Activation)     (None, 3, 3, 128)    0           identity_block_layer_bnstage_3_bl\n",
      "__________________________________________________________________________________________________\n",
      "identity_block_layer_convstage_ (None, 3, 3, 512)    66048       activation_266[0][0]             \n",
      "__________________________________________________________________________________________________\n",
      "identity_block_layer_bnstage_3_ (None, 3, 3, 512)    2048        identity_block_layer_convstage_3_\n",
      "__________________________________________________________________________________________________\n",
      "add_89 (Add)                    (None, 3, 3, 512)    0           identity_block_layer_bnstage_3_bl\n",
      "                                                                 activation_264[0][0]             \n",
      "__________________________________________________________________________________________________\n",
      "activation_267 (Activation)     (None, 3, 3, 512)    0           add_89[0][0]                     \n",
      "__________________________________________________________________________________________________\n",
      "convolution_block_layer_convsta (None, 2, 2, 256)    131328      activation_267[0][0]             \n",
      "__________________________________________________________________________________________________\n",
      "convolution_block_layer_bnstage (None, 2, 2, 256)    1024        convolution_block_layer_convstage\n",
      "__________________________________________________________________________________________________\n",
      "activation_268 (Activation)     (None, 2, 2, 256)    0           convolution_block_layer_bnstage_4\n",
      "__________________________________________________________________________________________________\n",
      "convolution_block_layer_convsta (None, 2, 2, 256)    590080      activation_268[0][0]             \n",
      "__________________________________________________________________________________________________\n",
      "convolution_block_layer_bnstage (None, 2, 2, 256)    1024        convolution_block_layer_convstage\n",
      "__________________________________________________________________________________________________\n",
      "activation_269 (Activation)     (None, 2, 2, 256)    0           convolution_block_layer_bnstage_4\n",
      "__________________________________________________________________________________________________\n",
      "convolution_block_layer_convsta (None, 2, 2, 1024)   263168      activation_269[0][0]             \n",
      "__________________________________________________________________________________________________\n",
      "convolution_block_layer_conv_sh (None, 2, 2, 1024)   525312      activation_267[0][0]             \n",
      "__________________________________________________________________________________________________\n",
      "convolution_block_layer_bnstage (None, 2, 2, 1024)   4096        convolution_block_layer_convstage\n",
      "__________________________________________________________________________________________________\n",
      "convolution_block_layer_bn_shor (None, 2, 2, 1024)   4096        convolution_block_layer_conv_shor\n",
      "__________________________________________________________________________________________________\n",
      "add_90 (Add)                    (None, 2, 2, 1024)   0           convolution_block_layer_bnstage_4\n",
      "                                                                 convolution_block_layer_bn_shorts\n",
      "__________________________________________________________________________________________________\n",
      "activation_270 (Activation)     (None, 2, 2, 1024)   0           add_90[0][0]                     \n",
      "__________________________________________________________________________________________________\n",
      "identity_block_layer_convstage_ (None, 2, 2, 256)    262400      activation_270[0][0]             \n",
      "__________________________________________________________________________________________________\n",
      "identity_block_layer_bnstage_4_ (None, 2, 2, 256)    1024        identity_block_layer_convstage_4_\n",
      "__________________________________________________________________________________________________\n",
      "activation_271 (Activation)     (None, 2, 2, 256)    0           identity_block_layer_bnstage_4_bl\n",
      "__________________________________________________________________________________________________\n",
      "identity_block_layer_convstage_ (None, 2, 2, 256)    590080      activation_271[0][0]             \n",
      "__________________________________________________________________________________________________\n",
      "identity_block_layer_bnstage_4_ (None, 2, 2, 256)    1024        identity_block_layer_convstage_4_\n",
      "__________________________________________________________________________________________________\n",
      "activation_272 (Activation)     (None, 2, 2, 256)    0           identity_block_layer_bnstage_4_bl\n",
      "__________________________________________________________________________________________________\n",
      "identity_block_layer_convstage_ (None, 2, 2, 1024)   263168      activation_272[0][0]             \n",
      "__________________________________________________________________________________________________\n",
      "identity_block_layer_bnstage_4_ (None, 2, 2, 1024)   4096        identity_block_layer_convstage_4_\n",
      "__________________________________________________________________________________________________\n",
      "add_91 (Add)                    (None, 2, 2, 1024)   0           identity_block_layer_bnstage_4_bl\n",
      "                                                                 activation_270[0][0]             \n",
      "__________________________________________________________________________________________________\n",
      "activation_273 (Activation)     (None, 2, 2, 1024)   0           add_91[0][0]                     \n",
      "__________________________________________________________________________________________________\n",
      "identity_block_layer_convstage_ (None, 2, 2, 256)    262400      activation_273[0][0]             \n",
      "__________________________________________________________________________________________________\n",
      "identity_block_layer_bnstage_4_ (None, 2, 2, 256)    1024        identity_block_layer_convstage_4_\n",
      "__________________________________________________________________________________________________\n",
      "activation_274 (Activation)     (None, 2, 2, 256)    0           identity_block_layer_bnstage_4_bl\n",
      "__________________________________________________________________________________________________\n",
      "identity_block_layer_convstage_ (None, 2, 2, 256)    590080      activation_274[0][0]             \n",
      "__________________________________________________________________________________________________\n",
      "identity_block_layer_bnstage_4_ (None, 2, 2, 256)    1024        identity_block_layer_convstage_4_\n",
      "__________________________________________________________________________________________________\n",
      "activation_275 (Activation)     (None, 2, 2, 256)    0           identity_block_layer_bnstage_4_bl\n",
      "__________________________________________________________________________________________________\n",
      "identity_block_layer_convstage_ (None, 2, 2, 1024)   263168      activation_275[0][0]             \n",
      "__________________________________________________________________________________________________\n",
      "identity_block_layer_bnstage_4_ (None, 2, 2, 1024)   4096        identity_block_layer_convstage_4_\n",
      "__________________________________________________________________________________________________\n",
      "add_92 (Add)                    (None, 2, 2, 1024)   0           identity_block_layer_bnstage_4_bl\n",
      "                                                                 activation_273[0][0]             \n",
      "__________________________________________________________________________________________________\n",
      "activation_276 (Activation)     (None, 2, 2, 1024)   0           add_92[0][0]                     \n",
      "__________________________________________________________________________________________________\n",
      "average_pooling2d_8 (AveragePoo (None, 1, 1, 1024)   0           activation_276[0][0]             \n",
      "__________________________________________________________________________________________________\n",
      "flatten_3 (Flatten)             (None, 1024)         0           average_pooling2d_8[0][0]        \n",
      "__________________________________________________________________________________________________\n",
      "fully_connected_5 (Dense)       (None, 10)           10250       flatten_3[0][0]                  \n",
      "==================================================================================================\n",
      "Total params: 5,234,058\n",
      "Trainable params: 5,212,682\n",
      "Non-trainable params: 21,376\n",
      "__________________________________________________________________________________________________\n"
     ]
    }
   ],
   "source": [
    "resnet50.summary()"
   ]
  },
  {
   "cell_type": "code",
   "execution_count": 33,
   "metadata": {
    "collapsed": true
   },
   "outputs": [],
   "source": [
    "import keras\n",
    "y_train = keras.utils.to_categorical(y_train, 10)\n",
    "y_test = keras.utils.to_categorical(y_test, 10)"
   ]
  },
  {
   "cell_type": "code",
   "execution_count": 36,
   "metadata": {},
   "outputs": [
    {
     "name": "stdout",
     "output_type": "stream",
     "text": [
      "Epoch 1/1\n",
      "20608/50000 [===========>..................] - ETA: 3:46 - loss: 2.0549 - acc: 0.3472"
     ]
    },
    {
     "ename": "KeyboardInterrupt",
     "evalue": "",
     "output_type": "error",
     "traceback": [
      "\u001b[0;31m---------------------------------------------------------------------------\u001b[0m",
      "\u001b[0;31mKeyboardInterrupt\u001b[0m                         Traceback (most recent call last)",
      "\u001b[0;32m<ipython-input-36-83c0e1f0d133>\u001b[0m in \u001b[0;36m<module>\u001b[0;34m()\u001b[0m\n\u001b[1;32m      1\u001b[0m \u001b[0mresnet50\u001b[0m\u001b[0;34m.\u001b[0m\u001b[0mcompile\u001b[0m\u001b[0;34m(\u001b[0m\u001b[0moptimizer\u001b[0m\u001b[0;34m=\u001b[0m\u001b[0;34m'adam'\u001b[0m\u001b[0;34m,\u001b[0m \u001b[0mloss\u001b[0m\u001b[0;34m=\u001b[0m\u001b[0;34m'categorical_crossentropy'\u001b[0m\u001b[0;34m,\u001b[0m \u001b[0mmetrics\u001b[0m\u001b[0;34m=\u001b[0m\u001b[0;34m[\u001b[0m\u001b[0;34m'accuracy'\u001b[0m\u001b[0;34m]\u001b[0m\u001b[0;34m)\u001b[0m\u001b[0;34m\u001b[0m\u001b[0m\n\u001b[0;32m----> 2\u001b[0;31m \u001b[0mresnet50\u001b[0m\u001b[0;34m.\u001b[0m\u001b[0mfit\u001b[0m\u001b[0;34m(\u001b[0m\u001b[0mx_train\u001b[0m\u001b[0;34m,\u001b[0m \u001b[0my_train\u001b[0m\u001b[0;34m,\u001b[0m \u001b[0mepochs\u001b[0m \u001b[0;34m=\u001b[0m \u001b[0;36m1\u001b[0m\u001b[0;34m,\u001b[0m \u001b[0mbatch_size\u001b[0m \u001b[0;34m=\u001b[0m \u001b[0;36m128\u001b[0m\u001b[0;34m)\u001b[0m\u001b[0;34m\u001b[0m\u001b[0m\n\u001b[0m",
      "\u001b[0;32m/Users/nag/Documents/Projects/Deeplearning/env/lib/python2.7/site-packages/keras/engine/training.pyc\u001b[0m in \u001b[0;36mfit\u001b[0;34m(self, x, y, batch_size, epochs, verbose, callbacks, validation_split, validation_data, shuffle, class_weight, sample_weight, initial_epoch, steps_per_epoch, validation_steps, **kwargs)\u001b[0m\n\u001b[1;32m   1667\u001b[0m                               \u001b[0minitial_epoch\u001b[0m\u001b[0;34m=\u001b[0m\u001b[0minitial_epoch\u001b[0m\u001b[0;34m,\u001b[0m\u001b[0;34m\u001b[0m\u001b[0m\n\u001b[1;32m   1668\u001b[0m                               \u001b[0msteps_per_epoch\u001b[0m\u001b[0;34m=\u001b[0m\u001b[0msteps_per_epoch\u001b[0m\u001b[0;34m,\u001b[0m\u001b[0;34m\u001b[0m\u001b[0m\n\u001b[0;32m-> 1669\u001b[0;31m                               validation_steps=validation_steps)\n\u001b[0m\u001b[1;32m   1670\u001b[0m \u001b[0;34m\u001b[0m\u001b[0m\n\u001b[1;32m   1671\u001b[0m     def evaluate(self, x=None, y=None,\n",
      "\u001b[0;32m/Users/nag/Documents/Projects/Deeplearning/env/lib/python2.7/site-packages/keras/engine/training.pyc\u001b[0m in \u001b[0;36m_fit_loop\u001b[0;34m(self, f, ins, out_labels, batch_size, epochs, verbose, callbacks, val_f, val_ins, shuffle, callback_metrics, initial_epoch, steps_per_epoch, validation_steps)\u001b[0m\n\u001b[1;32m   1204\u001b[0m                         \u001b[0mins_batch\u001b[0m\u001b[0;34m[\u001b[0m\u001b[0mi\u001b[0m\u001b[0;34m]\u001b[0m \u001b[0;34m=\u001b[0m \u001b[0mins_batch\u001b[0m\u001b[0;34m[\u001b[0m\u001b[0mi\u001b[0m\u001b[0;34m]\u001b[0m\u001b[0;34m.\u001b[0m\u001b[0mtoarray\u001b[0m\u001b[0;34m(\u001b[0m\u001b[0;34m)\u001b[0m\u001b[0;34m\u001b[0m\u001b[0m\n\u001b[1;32m   1205\u001b[0m \u001b[0;34m\u001b[0m\u001b[0m\n\u001b[0;32m-> 1206\u001b[0;31m                     \u001b[0mouts\u001b[0m \u001b[0;34m=\u001b[0m \u001b[0mf\u001b[0m\u001b[0;34m(\u001b[0m\u001b[0mins_batch\u001b[0m\u001b[0;34m)\u001b[0m\u001b[0;34m\u001b[0m\u001b[0m\n\u001b[0m\u001b[1;32m   1207\u001b[0m                     \u001b[0;32mif\u001b[0m \u001b[0;32mnot\u001b[0m \u001b[0misinstance\u001b[0m\u001b[0;34m(\u001b[0m\u001b[0mouts\u001b[0m\u001b[0;34m,\u001b[0m \u001b[0mlist\u001b[0m\u001b[0;34m)\u001b[0m\u001b[0;34m:\u001b[0m\u001b[0;34m\u001b[0m\u001b[0m\n\u001b[1;32m   1208\u001b[0m                         \u001b[0mouts\u001b[0m \u001b[0;34m=\u001b[0m \u001b[0;34m[\u001b[0m\u001b[0mouts\u001b[0m\u001b[0;34m]\u001b[0m\u001b[0;34m\u001b[0m\u001b[0m\n",
      "\u001b[0;32m/Users/nag/Documents/Projects/Deeplearning/env/lib/python2.7/site-packages/keras/backend/tensorflow_backend.pyc\u001b[0m in \u001b[0;36m__call__\u001b[0;34m(self, inputs)\u001b[0m\n\u001b[1;32m   2473\u001b[0m         \u001b[0msession\u001b[0m \u001b[0;34m=\u001b[0m \u001b[0mget_session\u001b[0m\u001b[0;34m(\u001b[0m\u001b[0;34m)\u001b[0m\u001b[0;34m\u001b[0m\u001b[0m\n\u001b[1;32m   2474\u001b[0m         updated = session.run(fetches=fetches, feed_dict=feed_dict,\n\u001b[0;32m-> 2475\u001b[0;31m                               **self.session_kwargs)\n\u001b[0m\u001b[1;32m   2476\u001b[0m         \u001b[0;32mreturn\u001b[0m \u001b[0mupdated\u001b[0m\u001b[0;34m[\u001b[0m\u001b[0;34m:\u001b[0m\u001b[0mlen\u001b[0m\u001b[0;34m(\u001b[0m\u001b[0mself\u001b[0m\u001b[0;34m.\u001b[0m\u001b[0moutputs\u001b[0m\u001b[0;34m)\u001b[0m\u001b[0;34m]\u001b[0m\u001b[0;34m\u001b[0m\u001b[0m\n\u001b[1;32m   2477\u001b[0m \u001b[0;34m\u001b[0m\u001b[0m\n",
      "\u001b[0;32m/Users/nag/Documents/Projects/Deeplearning/env/lib/python2.7/site-packages/tensorflow/python/client/session.pyc\u001b[0m in \u001b[0;36mrun\u001b[0;34m(self, fetches, feed_dict, options, run_metadata)\u001b[0m\n\u001b[1;32m    887\u001b[0m     \u001b[0;32mtry\u001b[0m\u001b[0;34m:\u001b[0m\u001b[0;34m\u001b[0m\u001b[0m\n\u001b[1;32m    888\u001b[0m       result = self._run(None, fetches, feed_dict, options_ptr,\n\u001b[0;32m--> 889\u001b[0;31m                          run_metadata_ptr)\n\u001b[0m\u001b[1;32m    890\u001b[0m       \u001b[0;32mif\u001b[0m \u001b[0mrun_metadata\u001b[0m\u001b[0;34m:\u001b[0m\u001b[0;34m\u001b[0m\u001b[0m\n\u001b[1;32m    891\u001b[0m         \u001b[0mproto_data\u001b[0m \u001b[0;34m=\u001b[0m \u001b[0mtf_session\u001b[0m\u001b[0;34m.\u001b[0m\u001b[0mTF_GetBuffer\u001b[0m\u001b[0;34m(\u001b[0m\u001b[0mrun_metadata_ptr\u001b[0m\u001b[0;34m)\u001b[0m\u001b[0;34m\u001b[0m\u001b[0m\n",
      "\u001b[0;32m/Users/nag/Documents/Projects/Deeplearning/env/lib/python2.7/site-packages/tensorflow/python/client/session.pyc\u001b[0m in \u001b[0;36m_run\u001b[0;34m(self, handle, fetches, feed_dict, options, run_metadata)\u001b[0m\n\u001b[1;32m   1118\u001b[0m     \u001b[0;32mif\u001b[0m \u001b[0mfinal_fetches\u001b[0m \u001b[0;32mor\u001b[0m \u001b[0mfinal_targets\u001b[0m \u001b[0;32mor\u001b[0m \u001b[0;34m(\u001b[0m\u001b[0mhandle\u001b[0m \u001b[0;32mand\u001b[0m \u001b[0mfeed_dict_tensor\u001b[0m\u001b[0;34m)\u001b[0m\u001b[0;34m:\u001b[0m\u001b[0;34m\u001b[0m\u001b[0m\n\u001b[1;32m   1119\u001b[0m       results = self._do_run(handle, final_targets, final_fetches,\n\u001b[0;32m-> 1120\u001b[0;31m                              feed_dict_tensor, options, run_metadata)\n\u001b[0m\u001b[1;32m   1121\u001b[0m     \u001b[0;32melse\u001b[0m\u001b[0;34m:\u001b[0m\u001b[0;34m\u001b[0m\u001b[0m\n\u001b[1;32m   1122\u001b[0m       \u001b[0mresults\u001b[0m \u001b[0;34m=\u001b[0m \u001b[0;34m[\u001b[0m\u001b[0;34m]\u001b[0m\u001b[0;34m\u001b[0m\u001b[0m\n",
      "\u001b[0;32m/Users/nag/Documents/Projects/Deeplearning/env/lib/python2.7/site-packages/tensorflow/python/client/session.pyc\u001b[0m in \u001b[0;36m_do_run\u001b[0;34m(self, handle, target_list, fetch_list, feed_dict, options, run_metadata)\u001b[0m\n\u001b[1;32m   1315\u001b[0m     \u001b[0;32mif\u001b[0m \u001b[0mhandle\u001b[0m \u001b[0;32mis\u001b[0m \u001b[0mNone\u001b[0m\u001b[0;34m:\u001b[0m\u001b[0;34m\u001b[0m\u001b[0m\n\u001b[1;32m   1316\u001b[0m       return self._do_call(_run_fn, self._session, feeds, fetches, targets,\n\u001b[0;32m-> 1317\u001b[0;31m                            options, run_metadata)\n\u001b[0m\u001b[1;32m   1318\u001b[0m     \u001b[0;32melse\u001b[0m\u001b[0;34m:\u001b[0m\u001b[0;34m\u001b[0m\u001b[0m\n\u001b[1;32m   1319\u001b[0m       \u001b[0;32mreturn\u001b[0m \u001b[0mself\u001b[0m\u001b[0;34m.\u001b[0m\u001b[0m_do_call\u001b[0m\u001b[0;34m(\u001b[0m\u001b[0m_prun_fn\u001b[0m\u001b[0;34m,\u001b[0m \u001b[0mself\u001b[0m\u001b[0;34m.\u001b[0m\u001b[0m_session\u001b[0m\u001b[0;34m,\u001b[0m \u001b[0mhandle\u001b[0m\u001b[0;34m,\u001b[0m \u001b[0mfeeds\u001b[0m\u001b[0;34m,\u001b[0m \u001b[0mfetches\u001b[0m\u001b[0;34m)\u001b[0m\u001b[0;34m\u001b[0m\u001b[0m\n",
      "\u001b[0;32m/Users/nag/Documents/Projects/Deeplearning/env/lib/python2.7/site-packages/tensorflow/python/client/session.pyc\u001b[0m in \u001b[0;36m_do_call\u001b[0;34m(self, fn, *args)\u001b[0m\n\u001b[1;32m   1321\u001b[0m   \u001b[0;32mdef\u001b[0m \u001b[0m_do_call\u001b[0m\u001b[0;34m(\u001b[0m\u001b[0mself\u001b[0m\u001b[0;34m,\u001b[0m \u001b[0mfn\u001b[0m\u001b[0;34m,\u001b[0m \u001b[0;34m*\u001b[0m\u001b[0margs\u001b[0m\u001b[0;34m)\u001b[0m\u001b[0;34m:\u001b[0m\u001b[0;34m\u001b[0m\u001b[0m\n\u001b[1;32m   1322\u001b[0m     \u001b[0;32mtry\u001b[0m\u001b[0;34m:\u001b[0m\u001b[0;34m\u001b[0m\u001b[0m\n\u001b[0;32m-> 1323\u001b[0;31m       \u001b[0;32mreturn\u001b[0m \u001b[0mfn\u001b[0m\u001b[0;34m(\u001b[0m\u001b[0;34m*\u001b[0m\u001b[0margs\u001b[0m\u001b[0;34m)\u001b[0m\u001b[0;34m\u001b[0m\u001b[0m\n\u001b[0m\u001b[1;32m   1324\u001b[0m     \u001b[0;32mexcept\u001b[0m \u001b[0merrors\u001b[0m\u001b[0;34m.\u001b[0m\u001b[0mOpError\u001b[0m \u001b[0;32mas\u001b[0m \u001b[0me\u001b[0m\u001b[0;34m:\u001b[0m\u001b[0;34m\u001b[0m\u001b[0m\n\u001b[1;32m   1325\u001b[0m       \u001b[0mmessage\u001b[0m \u001b[0;34m=\u001b[0m \u001b[0mcompat\u001b[0m\u001b[0;34m.\u001b[0m\u001b[0mas_text\u001b[0m\u001b[0;34m(\u001b[0m\u001b[0me\u001b[0m\u001b[0;34m.\u001b[0m\u001b[0mmessage\u001b[0m\u001b[0;34m)\u001b[0m\u001b[0;34m\u001b[0m\u001b[0m\n",
      "\u001b[0;32m/Users/nag/Documents/Projects/Deeplearning/env/lib/python2.7/site-packages/tensorflow/python/client/session.pyc\u001b[0m in \u001b[0;36m_run_fn\u001b[0;34m(session, feed_dict, fetch_list, target_list, options, run_metadata)\u001b[0m\n\u001b[1;32m   1300\u001b[0m           return tf_session.TF_Run(session, options,\n\u001b[1;32m   1301\u001b[0m                                    \u001b[0mfeed_dict\u001b[0m\u001b[0;34m,\u001b[0m \u001b[0mfetch_list\u001b[0m\u001b[0;34m,\u001b[0m \u001b[0mtarget_list\u001b[0m\u001b[0;34m,\u001b[0m\u001b[0;34m\u001b[0m\u001b[0m\n\u001b[0;32m-> 1302\u001b[0;31m                                    status, run_metadata)\n\u001b[0m\u001b[1;32m   1303\u001b[0m \u001b[0;34m\u001b[0m\u001b[0m\n\u001b[1;32m   1304\u001b[0m     \u001b[0;32mdef\u001b[0m \u001b[0m_prun_fn\u001b[0m\u001b[0;34m(\u001b[0m\u001b[0msession\u001b[0m\u001b[0;34m,\u001b[0m \u001b[0mhandle\u001b[0m\u001b[0;34m,\u001b[0m \u001b[0mfeed_dict\u001b[0m\u001b[0;34m,\u001b[0m \u001b[0mfetch_list\u001b[0m\u001b[0;34m)\u001b[0m\u001b[0;34m:\u001b[0m\u001b[0;34m\u001b[0m\u001b[0m\n",
      "\u001b[0;31mKeyboardInterrupt\u001b[0m: "
     ]
    }
   ],
   "source": [
    "resnet50.compile(optimizer='adam', loss='categorical_crossentropy', metrics=['accuracy'])\n",
    "resnet50.fit(x_train, y_train, epochs = 1, batch_size = 128)"
   ]
  },
  {
   "cell_type": "code",
   "execution_count": 2,
   "metadata": {},
   "outputs": [
    {
     "ename": "SyntaxError",
     "evalue": "invalid syntax (<ipython-input-2-2c530a9741f4>, line 1)",
     "output_type": "error",
     "traceback": [
      "\u001b[0;36m  File \u001b[0;32m\"<ipython-input-2-2c530a9741f4>\"\u001b[0;36m, line \u001b[0;32m1\u001b[0m\n\u001b[0;31m    which python\u001b[0m\n\u001b[0m               ^\u001b[0m\n\u001b[0;31mSyntaxError\u001b[0m\u001b[0;31m:\u001b[0m invalid syntax\n"
     ]
    }
   ],
   "source": []
  },
  {
   "cell_type": "code",
   "execution_count": null,
   "metadata": {
    "collapsed": true
   },
   "outputs": [],
   "source": []
  }
 ],
 "metadata": {
  "kernelspec": {
   "display_name": "conda_tensorflow_p36",
   "language": "python",
   "name": "conda_tensorflow_p36"
  },
  "language_info": {
   "codemirror_mode": {
    "name": "ipython",
    "version": 3
   },
   "file_extension": ".py",
   "mimetype": "text/x-python",
   "name": "python",
   "nbconvert_exporter": "python",
   "pygments_lexer": "ipython3",
   "version": "3.6.2"
  }
 },
 "nbformat": 4,
 "nbformat_minor": 2
}
