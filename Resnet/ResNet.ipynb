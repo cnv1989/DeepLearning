{
 "cells": [
  {
   "cell_type": "code",
   "execution_count": 1,
   "metadata": {},
   "outputs": [
    {
     "name": "stderr",
     "output_type": "stream",
     "text": [
      "Using TensorFlow backend.\n",
      "/home/ec2-user/anaconda3/envs/tensorflow_p36/lib/python3.6/importlib/_bootstrap.py:205: RuntimeWarning: compiletime version 3.5 of module 'tensorflow.python.framework.fast_tensor_util' does not match runtime version 3.6\n",
      "  return f(*args, **kwds)\n"
     ]
    }
   ],
   "source": [
    "from keras import layers\n",
    "from keras import initializers"
   ]
  },
  {
   "cell_type": "code",
   "execution_count": 2,
   "metadata": {},
   "outputs": [
    {
     "name": "stdout",
     "output_type": "stream",
     "text": [
      "Downloading data from https://www.cs.toronto.edu/~kriz/cifar-10-python.tar.gz\n",
      "170500096/170498071 [==============================] - 76s 0us/step\n"
     ]
    }
   ],
   "source": [
    "from keras.datasets import cifar10\n",
    "\n",
    "(x_train, y_train), (x_test, y_test) = cifar10.load_data()"
   ]
  },
  {
   "cell_type": "code",
   "execution_count": 3,
   "metadata": {
    "collapsed": true
   },
   "outputs": [],
   "source": [
    "def convolution_block(X_IN, filter_size, number_of_filters, stage, block, stride=2):\n",
    "    name_fmt = 'convolution_block_layer_{}' + 'stage_{}_block_{}'.format(stage, block) + '_branch_{}'\n",
    "    F1, F2, F3 = number_of_filters\n",
    "    \n",
    "    # 1x1 convolutions to change the number of filters and reduce the dimensions of the input\n",
    "    X = layers.Conv2D(F1, (1, 1), \n",
    "                      strides=(stride, stride),\n",
    "                      padding='same',\n",
    "                      kernel_initializer=initializers.glorot_uniform(seed=0),\n",
    "                      name=name_fmt.format('conv', 'a'))(X_IN)\n",
    "    X = layers.BatchNormalization(axis=3, name=name_fmt.format('bn', 'a'))(X)\n",
    "    X = layers.Activation('relu')(X)\n",
    "    \n",
    "    # filter_size x filter_size convolution to change the number of filters and change the dimensions\n",
    "    X = layers.Conv2D(F2, (filter_size, filter_size), \n",
    "                      strides=(1, 1),\n",
    "                      padding='same',\n",
    "                      kernel_initializer=initializers.glorot_uniform(seed=0),\n",
    "                      name=name_fmt.format('conv', 'b'))(X)\n",
    "    X = layers.BatchNormalization(axis=3, name=name_fmt.format('bn', 'b'))(X)\n",
    "    X = layers.Activation('relu')(X)\n",
    "    \n",
    "    # 1 x 1 convolution to change the number of filters\n",
    "    X = layers.Conv2D(F3, (1, 1), \n",
    "                      strides=(1, 1),\n",
    "                      padding='valid',\n",
    "                      kernel_initializer=initializers.glorot_uniform(seed=0),\n",
    "                      name=name_fmt.format('conv', 'c'))(X)\n",
    "    X = layers.BatchNormalization(axis=3, name=name_fmt.format('bn', 'c'))(X)\n",
    "    \n",
    "    X_shortcut = layers.Conv2D(F3, (1, 1), \n",
    "                               strides=(stride, stride), \n",
    "                               padding='valid', \n",
    "                               kernel_initializer=initializers.glorot_uniform(seed=0),\n",
    "                               name=name_fmt.format('conv_short', '1'))(X_IN)\n",
    "    X_shortcut = layers.BatchNormalization(axis=3, name=name_fmt.format('bn_short', '1'))(X_shortcut)\n",
    "    \n",
    "    X = layers.Add()([X, X_shortcut])\n",
    "    return layers.Activation('relu')(X)"
   ]
  },
  {
   "cell_type": "code",
   "execution_count": 4,
   "metadata": {
    "collapsed": true
   },
   "outputs": [],
   "source": [
    "def identity_block(X_IN, filter_size, number_of_filters, stage, block):\n",
    "    name_fmt = 'identity_block_layer_{}' + 'stage_{}_block_{}'.format(stage, block) + '_branch_{}'\n",
    "    F1, F2, F3 = number_of_filters\n",
    "    \n",
    "    X = layers.Conv2D(F1, (1, 1), strides=(1, 1), padding='valid',\n",
    "                      kernel_initializer=initializers.glorot_uniform(seed=0),\n",
    "                      name=name_fmt.format('conv', 'a'))(X_IN)\n",
    "    X = layers.BatchNormalization(axis=3, name=name_fmt.format('bn', 'a'))(X)\n",
    "    X = layers.Activation('relu')(X)\n",
    "    \n",
    "    X = layers.Conv2D(F2, (filter_size, filter_size), strides=(1, 1), padding='same',\n",
    "                      kernel_initializer=initializers.glorot_uniform(seed=0),\n",
    "                      name=name_fmt.format('conv', 'b'))(X)\n",
    "    X = layers.BatchNormalization(axis=3, name=name_fmt.format('bn', 'b'))(X)\n",
    "    X = layers.Activation('relu')(X)\n",
    "    \n",
    "    X = layers.Conv2D(F3, (1, 1), strides=(1, 1), padding='valid',\n",
    "                      kernel_initializer=initializers.glorot_uniform(seed=0),\n",
    "                      name=name_fmt.format('conv', 'c'))(X)\n",
    "    X = layers.BatchNormalization(axis=3, name=name_fmt.format('bn', 'c'))(X)\n",
    "    \n",
    "    X = layers.Add()([X, X_IN])\n",
    "    return layers.Activation('relu')(X)\n",
    "    \n",
    "    "
   ]
  },
  {
   "cell_type": "code",
   "execution_count": 5,
   "metadata": {
    "collapsed": true
   },
   "outputs": [],
   "source": [
    "def residual_stage(X_IN, filter_size, number_of_filters, stage, number_of_blocks=1):\n",
    "    \n",
    "    X = convolution_block(X_IN, filter_size, number_of_filters, stage, 0)\n",
    "    number_of_blocks -= 1\n",
    "    \n",
    "    for i in range(number_of_blocks):\n",
    "        X = identity_block(X, filter_size, number_of_filters, stage, i + 1)\n",
    "    \n",
    "    return X"
   ]
  },
  {
   "cell_type": "code",
   "execution_count": 6,
   "metadata": {
    "collapsed": true
   },
   "outputs": [],
   "source": [
    "from keras.models import Model\n",
    "\n",
    "def Resnet50(input_shape, classes):\n",
    "    X_input = layers.Input(input_shape)\n",
    "    X = layers.ZeroPadding2D((3, 3))(X_input)\n",
    "    X = layers.Conv2D(64, (7, 7), strides=(2, 2), \n",
    "                      padding='same', \n",
    "                      kernel_initializer=initializers.glorot_uniform(seed=0),\n",
    "                      name='conv_stage_1')(X)\n",
    "    X = layers.BatchNormalization(axis=3, name='bn_stage_1')(X)\n",
    "    print(X)\n",
    "    X = layers.MaxPooling2D((3, 3), strides=(2, 2))(X)\n",
    "    print(X)\n",
    "    \n",
    "    X = residual_stage(X, 3, [64, 64, 256], 2, number_of_blocks=3)\n",
    "    print(X)\n",
    "    X = residual_stage(X, 3, [128, 128, 512], 3, number_of_blocks=4)\n",
    "    print(X)\n",
    "    X = residual_stage(X, 3, [256, 256, 1024], 4, number_of_blocks=3)\n",
    "    print(X)\n",
    "    \n",
    "    X = layers.AveragePooling2D()(X)\n",
    "    print(X)\n",
    "    \n",
    "    X = layers.Flatten()(X)\n",
    "    X = layers.Dense(classes, activation='softmax',\n",
    "                     kernel_initializer=initializers.glorot_uniform(seed=0),\n",
    "                     name='fully_connected_5')(X)\n",
    "    return Model(inputs=X_input, outputs=X, name='Resnet50')"
   ]
  },
  {
   "cell_type": "code",
   "execution_count": 7,
   "metadata": {},
   "outputs": [
    {
     "data": {
      "text/plain": [
       "(50000, 32, 32, 3)"
      ]
     },
     "execution_count": 7,
     "metadata": {},
     "output_type": "execute_result"
    }
   ],
   "source": [
    "x_train.shape"
   ]
  },
  {
   "cell_type": "code",
   "execution_count": 8,
   "metadata": {},
   "outputs": [
    {
     "name": "stdout",
     "output_type": "stream",
     "text": [
      "Tensor(\"bn_stage_1/cond/Merge:0\", shape=(?, 19, 19, 64), dtype=float32)\n",
      "Tensor(\"max_pooling2d_1/MaxPool:0\", shape=(?, 9, 9, 64), dtype=float32)\n",
      "Tensor(\"activation_9/Relu:0\", shape=(?, 5, 5, 256), dtype=float32)\n",
      "Tensor(\"activation_21/Relu:0\", shape=(?, 3, 3, 512), dtype=float32)\n",
      "Tensor(\"activation_30/Relu:0\", shape=(?, 2, 2, 1024), dtype=float32)\n",
      "Tensor(\"average_pooling2d_1/AvgPool:0\", shape=(?, 1, 1, 1024), dtype=float32)\n"
     ]
    }
   ],
   "source": [
    "resnet50 = Resnet50((32, 32, 3), 10)"
   ]
  },
  {
   "cell_type": "code",
   "execution_count": 9,
   "metadata": {},
   "outputs": [
    {
     "name": "stdout",
     "output_type": "stream",
     "text": [
      "__________________________________________________________________________________________________\n",
      "Layer (type)                    Output Shape         Param #     Connected to                     \n",
      "==================================================================================================\n",
      "input_1 (InputLayer)            (None, 32, 32, 3)    0                                            \n",
      "__________________________________________________________________________________________________\n",
      "zero_padding2d_1 (ZeroPadding2D (None, 38, 38, 3)    0           input_1[0][0]                    \n",
      "__________________________________________________________________________________________________\n",
      "conv_stage_1 (Conv2D)           (None, 19, 19, 64)   9472        zero_padding2d_1[0][0]           \n",
      "__________________________________________________________________________________________________\n",
      "bn_stage_1 (BatchNormalization) (None, 19, 19, 64)   256         conv_stage_1[0][0]               \n",
      "__________________________________________________________________________________________________\n",
      "max_pooling2d_1 (MaxPooling2D)  (None, 9, 9, 64)     0           bn_stage_1[0][0]                 \n",
      "__________________________________________________________________________________________________\n",
      "convolution_block_layer_convsta (None, 5, 5, 64)     4160        max_pooling2d_1[0][0]            \n",
      "__________________________________________________________________________________________________\n",
      "convolution_block_layer_bnstage (None, 5, 5, 64)     256         convolution_block_layer_convstage\n",
      "__________________________________________________________________________________________________\n",
      "activation_1 (Activation)       (None, 5, 5, 64)     0           convolution_block_layer_bnstage_2\n",
      "__________________________________________________________________________________________________\n",
      "convolution_block_layer_convsta (None, 5, 5, 64)     36928       activation_1[0][0]               \n",
      "__________________________________________________________________________________________________\n",
      "convolution_block_layer_bnstage (None, 5, 5, 64)     256         convolution_block_layer_convstage\n",
      "__________________________________________________________________________________________________\n",
      "activation_2 (Activation)       (None, 5, 5, 64)     0           convolution_block_layer_bnstage_2\n",
      "__________________________________________________________________________________________________\n",
      "convolution_block_layer_convsta (None, 5, 5, 256)    16640       activation_2[0][0]               \n",
      "__________________________________________________________________________________________________\n",
      "convolution_block_layer_conv_sh (None, 5, 5, 256)    16640       max_pooling2d_1[0][0]            \n",
      "__________________________________________________________________________________________________\n",
      "convolution_block_layer_bnstage (None, 5, 5, 256)    1024        convolution_block_layer_convstage\n",
      "__________________________________________________________________________________________________\n",
      "convolution_block_layer_bn_shor (None, 5, 5, 256)    1024        convolution_block_layer_conv_shor\n",
      "__________________________________________________________________________________________________\n",
      "add_1 (Add)                     (None, 5, 5, 256)    0           convolution_block_layer_bnstage_2\n",
      "                                                                 convolution_block_layer_bn_shorts\n",
      "__________________________________________________________________________________________________\n",
      "activation_3 (Activation)       (None, 5, 5, 256)    0           add_1[0][0]                      \n",
      "__________________________________________________________________________________________________\n",
      "identity_block_layer_convstage_ (None, 5, 5, 64)     16448       activation_3[0][0]               \n",
      "__________________________________________________________________________________________________\n",
      "identity_block_layer_bnstage_2_ (None, 5, 5, 64)     256         identity_block_layer_convstage_2_\n",
      "__________________________________________________________________________________________________\n",
      "activation_4 (Activation)       (None, 5, 5, 64)     0           identity_block_layer_bnstage_2_bl\n",
      "__________________________________________________________________________________________________\n",
      "identity_block_layer_convstage_ (None, 5, 5, 64)     36928       activation_4[0][0]               \n",
      "__________________________________________________________________________________________________\n",
      "identity_block_layer_bnstage_2_ (None, 5, 5, 64)     256         identity_block_layer_convstage_2_\n",
      "__________________________________________________________________________________________________\n",
      "activation_5 (Activation)       (None, 5, 5, 64)     0           identity_block_layer_bnstage_2_bl\n",
      "__________________________________________________________________________________________________\n",
      "identity_block_layer_convstage_ (None, 5, 5, 256)    16640       activation_5[0][0]               \n",
      "__________________________________________________________________________________________________\n",
      "identity_block_layer_bnstage_2_ (None, 5, 5, 256)    1024        identity_block_layer_convstage_2_\n",
      "__________________________________________________________________________________________________\n",
      "add_2 (Add)                     (None, 5, 5, 256)    0           identity_block_layer_bnstage_2_bl\n",
      "                                                                 activation_3[0][0]               \n",
      "__________________________________________________________________________________________________\n",
      "activation_6 (Activation)       (None, 5, 5, 256)    0           add_2[0][0]                      \n",
      "__________________________________________________________________________________________________\n",
      "identity_block_layer_convstage_ (None, 5, 5, 64)     16448       activation_6[0][0]               \n",
      "__________________________________________________________________________________________________\n",
      "identity_block_layer_bnstage_2_ (None, 5, 5, 64)     256         identity_block_layer_convstage_2_\n",
      "__________________________________________________________________________________________________\n",
      "activation_7 (Activation)       (None, 5, 5, 64)     0           identity_block_layer_bnstage_2_bl\n",
      "__________________________________________________________________________________________________\n",
      "identity_block_layer_convstage_ (None, 5, 5, 64)     36928       activation_7[0][0]               \n",
      "__________________________________________________________________________________________________\n",
      "identity_block_layer_bnstage_2_ (None, 5, 5, 64)     256         identity_block_layer_convstage_2_\n",
      "__________________________________________________________________________________________________\n",
      "activation_8 (Activation)       (None, 5, 5, 64)     0           identity_block_layer_bnstage_2_bl\n",
      "__________________________________________________________________________________________________\n",
      "identity_block_layer_convstage_ (None, 5, 5, 256)    16640       activation_8[0][0]               \n",
      "__________________________________________________________________________________________________\n",
      "identity_block_layer_bnstage_2_ (None, 5, 5, 256)    1024        identity_block_layer_convstage_2_\n",
      "__________________________________________________________________________________________________\n",
      "add_3 (Add)                     (None, 5, 5, 256)    0           identity_block_layer_bnstage_2_bl\n",
      "                                                                 activation_6[0][0]               \n",
      "__________________________________________________________________________________________________\n",
      "activation_9 (Activation)       (None, 5, 5, 256)    0           add_3[0][0]                      \n",
      "__________________________________________________________________________________________________\n",
      "convolution_block_layer_convsta (None, 3, 3, 128)    32896       activation_9[0][0]               \n",
      "__________________________________________________________________________________________________\n",
      "convolution_block_layer_bnstage (None, 3, 3, 128)    512         convolution_block_layer_convstage\n",
      "__________________________________________________________________________________________________\n",
      "activation_10 (Activation)      (None, 3, 3, 128)    0           convolution_block_layer_bnstage_3\n",
      "__________________________________________________________________________________________________\n",
      "convolution_block_layer_convsta (None, 3, 3, 128)    147584      activation_10[0][0]              \n",
      "__________________________________________________________________________________________________\n",
      "convolution_block_layer_bnstage (None, 3, 3, 128)    512         convolution_block_layer_convstage\n",
      "__________________________________________________________________________________________________\n",
      "activation_11 (Activation)      (None, 3, 3, 128)    0           convolution_block_layer_bnstage_3\n",
      "__________________________________________________________________________________________________\n",
      "convolution_block_layer_convsta (None, 3, 3, 512)    66048       activation_11[0][0]              \n",
      "__________________________________________________________________________________________________\n",
      "convolution_block_layer_conv_sh (None, 3, 3, 512)    131584      activation_9[0][0]               \n",
      "__________________________________________________________________________________________________\n",
      "convolution_block_layer_bnstage (None, 3, 3, 512)    2048        convolution_block_layer_convstage\n",
      "__________________________________________________________________________________________________\n",
      "convolution_block_layer_bn_shor (None, 3, 3, 512)    2048        convolution_block_layer_conv_shor\n",
      "__________________________________________________________________________________________________\n",
      "add_4 (Add)                     (None, 3, 3, 512)    0           convolution_block_layer_bnstage_3\n",
      "                                                                 convolution_block_layer_bn_shorts\n",
      "__________________________________________________________________________________________________\n",
      "activation_12 (Activation)      (None, 3, 3, 512)    0           add_4[0][0]                      \n",
      "__________________________________________________________________________________________________\n",
      "identity_block_layer_convstage_ (None, 3, 3, 128)    65664       activation_12[0][0]              \n",
      "__________________________________________________________________________________________________\n",
      "identity_block_layer_bnstage_3_ (None, 3, 3, 128)    512         identity_block_layer_convstage_3_\n",
      "__________________________________________________________________________________________________\n",
      "activation_13 (Activation)      (None, 3, 3, 128)    0           identity_block_layer_bnstage_3_bl\n",
      "__________________________________________________________________________________________________\n",
      "identity_block_layer_convstage_ (None, 3, 3, 128)    147584      activation_13[0][0]              \n",
      "__________________________________________________________________________________________________\n",
      "identity_block_layer_bnstage_3_ (None, 3, 3, 128)    512         identity_block_layer_convstage_3_\n",
      "__________________________________________________________________________________________________\n",
      "activation_14 (Activation)      (None, 3, 3, 128)    0           identity_block_layer_bnstage_3_bl\n",
      "__________________________________________________________________________________________________\n",
      "identity_block_layer_convstage_ (None, 3, 3, 512)    66048       activation_14[0][0]              \n",
      "__________________________________________________________________________________________________\n",
      "identity_block_layer_bnstage_3_ (None, 3, 3, 512)    2048        identity_block_layer_convstage_3_\n",
      "__________________________________________________________________________________________________\n",
      "add_5 (Add)                     (None, 3, 3, 512)    0           identity_block_layer_bnstage_3_bl\n",
      "                                                                 activation_12[0][0]              \n",
      "__________________________________________________________________________________________________\n",
      "activation_15 (Activation)      (None, 3, 3, 512)    0           add_5[0][0]                      \n",
      "__________________________________________________________________________________________________\n",
      "identity_block_layer_convstage_ (None, 3, 3, 128)    65664       activation_15[0][0]              \n",
      "__________________________________________________________________________________________________\n",
      "identity_block_layer_bnstage_3_ (None, 3, 3, 128)    512         identity_block_layer_convstage_3_\n",
      "__________________________________________________________________________________________________\n",
      "activation_16 (Activation)      (None, 3, 3, 128)    0           identity_block_layer_bnstage_3_bl\n",
      "__________________________________________________________________________________________________\n",
      "identity_block_layer_convstage_ (None, 3, 3, 128)    147584      activation_16[0][0]              \n",
      "__________________________________________________________________________________________________\n",
      "identity_block_layer_bnstage_3_ (None, 3, 3, 128)    512         identity_block_layer_convstage_3_\n",
      "__________________________________________________________________________________________________\n",
      "activation_17 (Activation)      (None, 3, 3, 128)    0           identity_block_layer_bnstage_3_bl\n",
      "__________________________________________________________________________________________________\n",
      "identity_block_layer_convstage_ (None, 3, 3, 512)    66048       activation_17[0][0]              \n",
      "__________________________________________________________________________________________________\n",
      "identity_block_layer_bnstage_3_ (None, 3, 3, 512)    2048        identity_block_layer_convstage_3_\n",
      "__________________________________________________________________________________________________\n",
      "add_6 (Add)                     (None, 3, 3, 512)    0           identity_block_layer_bnstage_3_bl\n",
      "                                                                 activation_15[0][0]              \n",
      "__________________________________________________________________________________________________\n",
      "activation_18 (Activation)      (None, 3, 3, 512)    0           add_6[0][0]                      \n",
      "__________________________________________________________________________________________________\n",
      "identity_block_layer_convstage_ (None, 3, 3, 128)    65664       activation_18[0][0]              \n",
      "__________________________________________________________________________________________________\n",
      "identity_block_layer_bnstage_3_ (None, 3, 3, 128)    512         identity_block_layer_convstage_3_\n",
      "__________________________________________________________________________________________________\n",
      "activation_19 (Activation)      (None, 3, 3, 128)    0           identity_block_layer_bnstage_3_bl\n",
      "__________________________________________________________________________________________________\n",
      "identity_block_layer_convstage_ (None, 3, 3, 128)    147584      activation_19[0][0]              \n",
      "__________________________________________________________________________________________________\n",
      "identity_block_layer_bnstage_3_ (None, 3, 3, 128)    512         identity_block_layer_convstage_3_\n",
      "__________________________________________________________________________________________________\n",
      "activation_20 (Activation)      (None, 3, 3, 128)    0           identity_block_layer_bnstage_3_bl\n",
      "__________________________________________________________________________________________________\n",
      "identity_block_layer_convstage_ (None, 3, 3, 512)    66048       activation_20[0][0]              \n",
      "__________________________________________________________________________________________________\n",
      "identity_block_layer_bnstage_3_ (None, 3, 3, 512)    2048        identity_block_layer_convstage_3_\n",
      "__________________________________________________________________________________________________\n",
      "add_7 (Add)                     (None, 3, 3, 512)    0           identity_block_layer_bnstage_3_bl\n",
      "                                                                 activation_18[0][0]              \n",
      "__________________________________________________________________________________________________\n",
      "activation_21 (Activation)      (None, 3, 3, 512)    0           add_7[0][0]                      \n",
      "__________________________________________________________________________________________________\n",
      "convolution_block_layer_convsta (None, 2, 2, 256)    131328      activation_21[0][0]              \n",
      "__________________________________________________________________________________________________\n",
      "convolution_block_layer_bnstage (None, 2, 2, 256)    1024        convolution_block_layer_convstage\n",
      "__________________________________________________________________________________________________\n",
      "activation_22 (Activation)      (None, 2, 2, 256)    0           convolution_block_layer_bnstage_4\n",
      "__________________________________________________________________________________________________\n",
      "convolution_block_layer_convsta (None, 2, 2, 256)    590080      activation_22[0][0]              \n",
      "__________________________________________________________________________________________________\n",
      "convolution_block_layer_bnstage (None, 2, 2, 256)    1024        convolution_block_layer_convstage\n",
      "__________________________________________________________________________________________________\n",
      "activation_23 (Activation)      (None, 2, 2, 256)    0           convolution_block_layer_bnstage_4\n",
      "__________________________________________________________________________________________________\n",
      "convolution_block_layer_convsta (None, 2, 2, 1024)   263168      activation_23[0][0]              \n",
      "__________________________________________________________________________________________________\n",
      "convolution_block_layer_conv_sh (None, 2, 2, 1024)   525312      activation_21[0][0]              \n",
      "__________________________________________________________________________________________________\n",
      "convolution_block_layer_bnstage (None, 2, 2, 1024)   4096        convolution_block_layer_convstage\n",
      "__________________________________________________________________________________________________\n",
      "convolution_block_layer_bn_shor (None, 2, 2, 1024)   4096        convolution_block_layer_conv_shor\n",
      "__________________________________________________________________________________________________\n",
      "add_8 (Add)                     (None, 2, 2, 1024)   0           convolution_block_layer_bnstage_4\n",
      "                                                                 convolution_block_layer_bn_shorts\n",
      "__________________________________________________________________________________________________\n",
      "activation_24 (Activation)      (None, 2, 2, 1024)   0           add_8[0][0]                      \n",
      "__________________________________________________________________________________________________\n",
      "identity_block_layer_convstage_ (None, 2, 2, 256)    262400      activation_24[0][0]              \n",
      "__________________________________________________________________________________________________\n",
      "identity_block_layer_bnstage_4_ (None, 2, 2, 256)    1024        identity_block_layer_convstage_4_\n",
      "__________________________________________________________________________________________________\n",
      "activation_25 (Activation)      (None, 2, 2, 256)    0           identity_block_layer_bnstage_4_bl\n",
      "__________________________________________________________________________________________________\n",
      "identity_block_layer_convstage_ (None, 2, 2, 256)    590080      activation_25[0][0]              \n",
      "__________________________________________________________________________________________________\n",
      "identity_block_layer_bnstage_4_ (None, 2, 2, 256)    1024        identity_block_layer_convstage_4_\n",
      "__________________________________________________________________________________________________\n",
      "activation_26 (Activation)      (None, 2, 2, 256)    0           identity_block_layer_bnstage_4_bl\n",
      "__________________________________________________________________________________________________\n",
      "identity_block_layer_convstage_ (None, 2, 2, 1024)   263168      activation_26[0][0]              \n",
      "__________________________________________________________________________________________________\n",
      "identity_block_layer_bnstage_4_ (None, 2, 2, 1024)   4096        identity_block_layer_convstage_4_\n",
      "__________________________________________________________________________________________________\n",
      "add_9 (Add)                     (None, 2, 2, 1024)   0           identity_block_layer_bnstage_4_bl\n",
      "                                                                 activation_24[0][0]              \n",
      "__________________________________________________________________________________________________\n",
      "activation_27 (Activation)      (None, 2, 2, 1024)   0           add_9[0][0]                      \n",
      "__________________________________________________________________________________________________\n",
      "identity_block_layer_convstage_ (None, 2, 2, 256)    262400      activation_27[0][0]              \n",
      "__________________________________________________________________________________________________\n",
      "identity_block_layer_bnstage_4_ (None, 2, 2, 256)    1024        identity_block_layer_convstage_4_\n",
      "__________________________________________________________________________________________________\n",
      "activation_28 (Activation)      (None, 2, 2, 256)    0           identity_block_layer_bnstage_4_bl\n",
      "__________________________________________________________________________________________________\n",
      "identity_block_layer_convstage_ (None, 2, 2, 256)    590080      activation_28[0][0]              \n",
      "__________________________________________________________________________________________________\n",
      "identity_block_layer_bnstage_4_ (None, 2, 2, 256)    1024        identity_block_layer_convstage_4_\n",
      "__________________________________________________________________________________________________\n",
      "activation_29 (Activation)      (None, 2, 2, 256)    0           identity_block_layer_bnstage_4_bl\n",
      "__________________________________________________________________________________________________\n",
      "identity_block_layer_convstage_ (None, 2, 2, 1024)   263168      activation_29[0][0]              \n",
      "__________________________________________________________________________________________________\n",
      "identity_block_layer_bnstage_4_ (None, 2, 2, 1024)   4096        identity_block_layer_convstage_4_\n",
      "__________________________________________________________________________________________________\n",
      "add_10 (Add)                    (None, 2, 2, 1024)   0           identity_block_layer_bnstage_4_bl\n",
      "                                                                 activation_27[0][0]              \n",
      "__________________________________________________________________________________________________\n",
      "activation_30 (Activation)      (None, 2, 2, 1024)   0           add_10[0][0]                     \n",
      "__________________________________________________________________________________________________\n",
      "average_pooling2d_1 (AveragePoo (None, 1, 1, 1024)   0           activation_30[0][0]              \n",
      "__________________________________________________________________________________________________\n",
      "flatten_1 (Flatten)             (None, 1024)         0           average_pooling2d_1[0][0]        \n",
      "__________________________________________________________________________________________________\n",
      "fully_connected_5 (Dense)       (None, 10)           10250       flatten_1[0][0]                  \n",
      "==================================================================================================\n",
      "Total params: 5,234,058\n",
      "Trainable params: 5,212,682\n",
      "Non-trainable params: 21,376\n",
      "__________________________________________________________________________________________________\n"
     ]
    }
   ],
   "source": [
    "resnet50.summary()"
   ]
  },
  {
   "cell_type": "code",
   "execution_count": 10,
   "metadata": {
    "collapsed": true
   },
   "outputs": [],
   "source": [
    "import keras\n",
    "y_train = keras.utils.to_categorical(y_train, 10)\n",
    "y_test = keras.utils.to_categorical(y_test, 10)"
   ]
  },
  {
   "cell_type": "code",
   "execution_count": 11,
   "metadata": {},
   "outputs": [
    {
     "name": "stdout",
     "output_type": "stream",
     "text": [
      "Epoch 1/1\n",
      "50000/50000 [==============================] - 850s 17ms/step - loss: 1.7944 - acc: 0.4118\n"
     ]
    },
    {
     "data": {
      "text/plain": [
       "<keras.callbacks.History at 0x7f82ac8e5ac8>"
      ]
     },
     "execution_count": 11,
     "metadata": {},
     "output_type": "execute_result"
    }
   ],
   "source": [
    "resnet50.compile(optimizer='adam', loss='categorical_crossentropy', metrics=['accuracy'])\n",
    "resnet50.fit(x_train, y_train, epochs = 1, batch_size = 128)"
   ]
  },
  {
   "cell_type": "code",
   "execution_count": 26,
   "metadata": {},
   "outputs": [
    {
     "name": "stdout",
     "output_type": "stream",
     "text": [
      "Training Accuracy: [0.041641033882424239, 0.98526000000000002]\n",
      "Testing Accuracy: [1.8148325004577637, 0.69010000000000005]\n"
     ]
    }
   ],
   "source": [
    "from keras.models import model_from_json\n",
    "\n",
    "model_json = open('./resnet50.json', 'r').read()\n",
    "resnet50 = model_from_json(model_json)\n",
    "resnet50.load_weights(\"./resnet50.h5\")\n",
    "\n",
    "resnet50.compile(loss='categorical_crossentropy', optimizer='adam', metrics=['accuracy'])\n",
    "score = resnet50.evaluate(x_train, y_train, verbose=0)\n",
    "print(\"Training Accuracy:\", score)\n",
    "score = resnet50.evaluate(x_test, y_test, verbose=0)\n",
    "print(\"Testing Accuracy:\", score)"
   ]
  },
  {
   "cell_type": "code",
   "execution_count": null,
   "metadata": {
    "collapsed": true
   },
   "outputs": [],
   "source": []
  }
 ],
 "metadata": {
  "kernelspec": {
   "display_name": "conda_tensorflow_p36",
   "language": "python",
   "name": "conda_tensorflow_p36"
  },
  "language_info": {
   "codemirror_mode": {
    "name": "ipython",
    "version": 3
   },
   "file_extension": ".py",
   "mimetype": "text/x-python",
   "name": "python",
   "nbconvert_exporter": "python",
   "pygments_lexer": "ipython3",
   "version": "3.6.2"
  }
 },
 "nbformat": 4,
 "nbformat_minor": 2
}
