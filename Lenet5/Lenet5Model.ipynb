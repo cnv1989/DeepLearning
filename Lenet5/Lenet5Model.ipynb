{
 "cells": [
  {
   "cell_type": "code",
   "execution_count": 1,
   "metadata": {
    "collapsed": true
   },
   "outputs": [],
   "source": [
    "import tensorflow as tf"
   ]
  },
  {
   "cell_type": "code",
   "execution_count": 3,
   "metadata": {},
   "outputs": [
    {
     "name": "stdout",
     "output_type": "stream",
     "text": [
      "INFO:tensorflow:Restoring parameters from ./lenet5_model.ckpt\n",
      "INFO:tensorflow:No assets to save.\n",
      "INFO:tensorflow:No assets to write.\n"
     ]
    }
   ],
   "source": [
    "builder = tf.saved_model.builder.SavedModelBuilder('./saved_model_1/')\n",
    "with tf.Session() as sess:\n",
    "    loader = tf.train.import_meta_graph('./lenet5_model.ckpt.meta')\n",
    "    loader.restore(sess, tf.train.latest_checkpoint('./'))\n",
    "    builder.add_meta_graph_and_variables(sess,\n",
    "                                       [tf.saved_model.tag_constants.TRAINING],\n",
    "                                       signature_def_map=None,\n",
    "                                       assets_collection=None)\n",
    "builder.save()"
   ]
  },
  {
   "cell_type": "code",
   "execution_count": 7,
   "metadata": {},
   "outputs": [
    {
     "name": "stdout",
     "output_type": "stream",
     "text": [
      "INFO:tensorflow:SavedModel written to: ./saved_model_1/saved_model.pb\n"
     ]
    },
    {
     "data": {
      "text/plain": [
       "'./saved_model_1/saved_model.pb'"
      ]
     },
     "execution_count": 7,
     "metadata": {},
     "output_type": "execute_result"
    }
   ],
   "source": [
    "builder.save()"
   ]
  },
  {
   "cell_type": "code",
   "execution_count": 9,
   "metadata": {},
   "outputs": [
    {
     "name": "stdout",
     "output_type": "stream",
     "text": [
      "INFO:tensorflow:Restoring parameters from ./saved_model_1/variables/variables\n",
      "[[-0.28385872 -0.23850901 -0.14015454 ..., -0.74844474  0.156544\n",
      "  -0.09973569]\n",
      " [ 0.06192552  0.31170145 -0.04068151 ...,  0.2401612   0.20862693\n",
      "  -0.057987  ]\n",
      " [ 0.16538417 -0.19792831 -0.13829945 ...,  0.30370846 -0.05036305\n",
      "   0.24063899]\n",
      " ..., \n",
      " [-0.43557748  0.5435943  -0.03637107 ..., -0.57722449 -0.0597816\n",
      "   0.0673863 ]\n",
      " [-0.58281118 -0.38750151  0.13925892 ..., -0.33650714  0.50487369\n",
      "  -0.05301821]\n",
      " [ 0.59959102  0.05686027 -0.1562039  ...,  1.19336057 -0.67571807\n",
      "   0.74709618]]\n"
     ]
    }
   ],
   "source": [
    "with tf.Session() as sess:\n",
    "    tf.saved_model.loader.load(sess, [tf.saved_model.tag_constants.TRAINING], './saved_model_1')\n",
    "    print(sess.run('fully_connected/weights:0'))"
   ]
  },
  {
   "cell_type": "code",
   "execution_count": null,
   "metadata": {
    "collapsed": true
   },
   "outputs": [],
   "source": []
  }
 ],
 "metadata": {
  "kernelspec": {
   "display_name": "conda_tensorflow_p27",
   "language": "python",
   "name": "conda_tensorflow_p27"
  },
  "language_info": {
   "codemirror_mode": {
    "name": "ipython",
    "version": 2
   },
   "file_extension": ".py",
   "mimetype": "text/x-python",
   "name": "python",
   "nbconvert_exporter": "python",
   "pygments_lexer": "ipython2",
   "version": "2.7.11"
  }
 },
 "nbformat": 4,
 "nbformat_minor": 2
}
